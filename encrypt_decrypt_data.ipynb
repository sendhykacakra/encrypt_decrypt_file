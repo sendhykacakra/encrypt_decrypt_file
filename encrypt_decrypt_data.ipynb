{
 "cells": [
  {
   "cell_type": "markdown",
   "metadata": {},
   "source": [
    "# Encrypted"
   ]
  },
  {
   "cell_type": "code",
   "execution_count": null,
   "metadata": {},
   "outputs": [],
   "source": [
    "# import required module\n",
    "from cryptography.fernet import Fernet"
   ]
  },
  {
   "cell_type": "code",
   "execution_count": null,
   "metadata": {},
   "outputs": [],
   "source": [
    "# key generation\n",
    "key = Fernet.generate_key()\n",
    "  \n",
    "# string the key in a file\n",
    "with open('filekey.key', 'wb') as filekey:\n",
    "   filekey.write(key)"
   ]
  },
  {
   "cell_type": "code",
   "execution_count": null,
   "metadata": {},
   "outputs": [],
   "source": [
    "# opening the key\n",
    "with open('filekey.key', 'rb') as filekey:\n",
    "    key = filekey.read()\n",
    "  \n",
    "# using the generated key\n",
    "fernet = Fernet(key)"
   ]
  },
  {
   "cell_type": "code",
   "execution_count": null,
   "metadata": {},
   "outputs": [],
   "source": [
    "# opening the original file to encrypt\n",
    "with open('test.csv', 'rb') as file:\n",
    "    original = file.read()"
   ]
  },
  {
   "cell_type": "code",
   "execution_count": null,
   "metadata": {},
   "outputs": [],
   "source": [
    "# encrypting the file\n",
    "encrypted = fernet.encrypt(original)"
   ]
  },
  {
   "cell_type": "code",
   "execution_count": null,
   "metadata": {},
   "outputs": [],
   "source": [
    "# writing the encrypted data\n",
    "with open('test.csv', 'wb') as encrypted_file:\n",
    "    encrypted_file.write(encrypted)"
   ]
  },
  {
   "cell_type": "markdown",
   "metadata": {},
   "source": [
    "# Decrypted"
   ]
  },
  {
   "cell_type": "code",
   "execution_count": null,
   "metadata": {},
   "outputs": [],
   "source": [
    "# using the key\n",
    "fernet = Fernet(key)\n",
    "  \n",
    "# opening the encrypted file\n",
    "with open('test.csv', 'rb') as enc_file:\n",
    "    encrypted = enc_file.read()\n",
    "  \n",
    "# decrypting the file\n",
    "decrypted = fernet.decrypt(encrypted)\n",
    "  \n",
    "# opening the file in write mode and\n",
    "# writing the decrypted data\n",
    "with open('test.csv', 'wb') as dec_file:\n",
    "    dec_file.write(decrypted)"
   ]
  }
 ],
 "metadata": {
  "kernelspec": {
   "display_name": "Python 3",
   "language": "python",
   "name": "python3"
  },
  "language_info": {
   "codemirror_mode": {
    "name": "ipython",
    "version": 3
   },
   "file_extension": ".py",
   "mimetype": "text/x-python",
   "name": "python",
   "nbconvert_exporter": "python",
   "pygments_lexer": "ipython3",
   "version": "3.8.5"
  }
 },
 "nbformat": 4,
 "nbformat_minor": 4
}
